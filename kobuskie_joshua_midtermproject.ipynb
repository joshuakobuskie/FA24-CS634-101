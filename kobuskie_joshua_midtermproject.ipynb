{
 "cells": [
  {
   "cell_type": "markdown",
   "metadata": {},
   "source": [
    "# Midterm Project - Apriori Algorithm\n",
    "\n",
    "**Author** : *Joshua Kobuskie*"
   ]
  },
  {
   "cell_type": "markdown",
   "metadata": {},
   "source": [
    "## Part 1 Details\n",
    "1. Create 10 (or any number of, not less than 5) items usually seen in\n",
    "Amazon, K-mart, or any other supermarkets (e.g. diapers, clothes, etc.).\n",
    "2. Create a database of at least 20 transactions each containing some of these\n",
    "items. Save the transaction in a CSV file.\n",
    "3. Repeat (1) by creating 4 additional, different databases each containing at\n",
    "least 20 transactions.\n",
    "4. Note: You can create these transactions and datasets manually, download\n",
    "them from the net, or use the examples I will provide. In any case, add a\n",
    "note to your report where and how you built your data sets.\n",
    "5. The items and transaction must not be random so that your code is\n",
    "deterministic"
   ]
  },
  {
   "cell_type": "markdown",
   "metadata": {},
   "source": [
    "## Part 2 Details\n",
    "* Implement the brute force method to generate frequent items and generate\n",
    "association rules.\n",
    "* The brute force method for finding frequent itemsets works as follows.\n",
    "Enumerate and generate all possible 1-itemsets and 2-itemsets. There are\n",
    "30 items, so there are 435 possible 2-itemsets totally. Check to see whether\n",
    "each possible 1-itemset/2-itemset is frequent. Then enumerate and generate\n",
    "all possible 3-itemsets. There are 4060 possible 3-itemsets totally. Check to\n",
    "see whether each possible 3-itemset is :frequent. Keep on doing so until\n",
    "you see none of the possible k-itemsets is :frequent for some k, at which\n",
    "point the brute force method terminates without generating (k+ 1 )-\n",
    "itemsets."
   ]
  },
  {
   "cell_type": "markdown",
   "metadata": {},
   "source": [
    "## Part 3 Details\n",
    "Use an existing Apriori implementation from Python libraries/packages to\n",
    "verify the results from your brute force algorithm implementation.\n",
    "* Use Python existing package for fpgrowth (as known as fp-tree algorithm)\n",
    "to generate the items and rules.\n",
    "* Compare the results from your brute-force, Apriori, and FP-Tree/Growth.\n",
    "* Do the three algorithms produce the same results?\n",
    "* Report the timing performance for all three algorithms as well.\n",
    "* Which one is faster?\n",
    "So, for all three algorithms, generate and print out all the association rules and\n",
    "the input transactions for each of the 5 transactional databases you created/used.\n",
    "The data set selection, support, and confidence must be user-specified\n",
    "parameters, so the output should show different rules with respect to different\n",
    "databases and different support/confidence.\n",
    "Make sure to show multiple support and confidence results for each data set.\n",
    "You should prompt the user only once for the input and reuse for the three\n",
    "algorithms in each run.\n",
    "The items and transactions must be clear and easy to identify. Your\n",
    "program should show the performance time for each algorithm."
   ]
  },
  {
   "cell_type": "markdown",
   "metadata": {},
   "source": [
    "## Part 4 Details\n",
    "Github & Jupyter Notebook.\n",
    "* After you finish your code in development and testing\n",
    "and make sure it works, and prepare the report (meaning\n",
    "all heavy lifting job is done ), Create a Github\n",
    "repository in https://github.com/. Your account must be\n",
    "with your NJIT email not your personal email (unless if\n",
    "you have to, but indicate that in your report as well).\n",
    "* Load your project to the repository.\n",
    "* Create Jupyter notebook for your work to show the\n",
    "output, for more info visit https://jupyter.org/\n",
    "* Give me ya54@njit.edu access as a collaborator to your\n",
    "repository. (If we have a grader, you give him/her access\n",
    "too).\n",
    "* Add Github link to your repository to your report."
   ]
  }
 ],
 "metadata": {
  "language_info": {
   "name": "python"
  }
 },
 "nbformat": 4,
 "nbformat_minor": 2
}
