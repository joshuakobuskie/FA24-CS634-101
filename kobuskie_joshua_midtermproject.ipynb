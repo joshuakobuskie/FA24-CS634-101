{
 "cells": [
  {
   "cell_type": "markdown",
   "metadata": {},
   "source": [
    "# Midterm Project - Apriori Algorithm\n",
    "\n",
    "**Author** : *Joshua Kobuskie*"
   ]
  },
  {
   "cell_type": "markdown",
   "metadata": {},
   "source": [
    "## Part 1 Details\n",
    "1. Create 10 (or any number of, not less than 5) items usually seen in\n",
    "Amazon, K-mart, or any other supermarkets (e.g. diapers, clothes, etc.).\n",
    "2. Create a database of at least 20 transactions each containing some of these\n",
    "items. Save the transaction in a CSV file.\n",
    "3. Repeat (1) by creating 4 additional, different databases each containing at\n",
    "least 20 transactions.\n",
    "4. Note: You can create these transactions and datasets manually, download\n",
    "them from the net, or use the examples I will provide. In any case, add a\n",
    "note to your report where and how you built your data sets.\n",
    "5. The items and transaction must not be random so that your code is\n",
    "deterministic"
   ]
  },
  {
   "cell_type": "code",
   "execution_count": null,
   "metadata": {},
   "outputs": [],
   "source": [
    "# Create Amazon transactions an dataset from provided example\n",
    "import csv\n",
    "\n",
    "amazonData  = [ [\"Transaction ID\", \"Transaction\"],\n",
    "[\"Trans1\", \"A Beginner’s Guide\", \"Java: The Complete Reference\", \"Java For Dummies\", \"Android Programming: The Big Nerd Ranch\"],\n",
    "\"Trans2\", \"A Beginner’s Guide\", \"Java: The Complete Reference\", \"Java For Dummies\"\n",
    "\"Trans3\", \"A Beginner’s Guide\", \"Java: The Complete Reference\", \"Java For Dummies\", \"Android Programming: The Big Nerd Ranch\", \"Head First Java 2nd Edition\"\n",
    "\"Trans4\", \"Android Programming: The Big Nerd Ranch\", \"Head First Java 2nd Edition\", \"Beginning Programming with Java\"\n",
    "\"Trans5\", \"Android Programming: The Big Nerd Ranch\", \"Beginning Programming with Java\", \"Java 8 Pocket Guide\"\n",
    "\"Trans6\", \"A Beginner’s Guide\", \"Android Programming: The Big Nerd Ranch\", \"Head First Java 2nd Edition\"\n",
    "\"Trans7\", \"A Beginner’s Guide\", \"Head First Java 2nd Edition\", \"Beginning Programming with Java\"\n",
    "\"Trans8\", \"Java: The Complete Reference\", \"Java For Dummies\", \"Android Programming: The Big Nerd Ranch\"\n",
    "\"Trans9\", \"Java For Dummies\", \"Android Programming: The Big Nerd Ranch\", \"Head First Java 2nd Edition\", \"Beginning Programming with Java\"\n",
    "\"Trans10\", \"Beginning Programming with Java\", \"Java 8 Pocket Guide\", \"C++ Programming in Easy Steps\"\n",
    "\"Trans11\", \"A Beginner’s Guide\", \"Java: The Complete Reference\", \"Java For Dummies\", \"Android Programming: The Big Nerd Ranch\"\n",
    "\"Trans12\", \"A Beginner’s Guide\", \"Java: The Complete Reference\", \"Java For Dummies\", \"HTML and CSS: Design and Build Websites\"\n",
    "\"Trans13\", \"A Beginner’s Guide\", \"Java: The Complete Reference\", \"Java For Dummies\", \"Java 8 Pocket Guide\", \"HTML and CSS: Design and Build Websites\"\n",
    "\"Trans14\", \"Java For Dummies\", \"Android Programming: The Big Nerd Ranch\", \"Head First Java 2nd Edition\"\n",
    "\"Trans15\", \"Java For Dummies\", \"Android Programming: The Big Nerd Ranch\"\n",
    "\"Trans16\", \"A Beginner’s Guide\", \"Java: The Complete Reference\", \"Java For Dummies\", \"Android Programming: The Big Nerd Ranch\"\n",
    "\"Trans17\", \"A Beginner’s Guide\", \"Java: The Complete Reference\", \"Java For Dummies\", \"Android Programming: The Big Nerd Ranch\"\n",
    "\"Trans18\", \"Head First Java 2nd Edition\", \"Beginning Programming with Java\", \"Java 8 Pocket Guide\"\n",
    "\"Trans19\", \"Android Programming: The Big Nerd Ranch\", \"Head First Java 2nd Edition\"\n",
    "\"Trans20\", \"A Beginner’s Guide\", \"Java: The Complete Reference\", \"Java For Dummies\"]\n",
    "\n",
    "with open(\"amazonTransactions.csv\", \"w\", newline=\"\") as csvFile:\n",
    "    writer = csv.writer(csvFile)\n",
    "    writer.writerows(amazonData)"
   ]
  },
  {
   "cell_type": "markdown",
   "metadata": {},
   "source": [
    "## Part 2 Details\n",
    "* Implement the brute force method to generate frequent items and generate\n",
    "association rules.\n",
    "* The brute force method for finding frequent itemsets works as follows.\n",
    "Enumerate and generate all possible 1-itemsets and 2-itemsets. There are\n",
    "30 items, so there are 435 possible 2-itemsets totally. Check to see whether\n",
    "each possible 1-itemset/2-itemset is frequent. Then enumerate and generate\n",
    "all possible 3-itemsets. There are 4060 possible 3-itemsets totally. Check to\n",
    "see whether each possible 3-itemset is :frequent. Keep on doing so until\n",
    "you see none of the possible k-itemsets is :frequent for some k, at which\n",
    "point the brute force method terminates without generating (k+ 1 )-\n",
    "itemsets."
   ]
  },
  {
   "cell_type": "markdown",
   "metadata": {},
   "source": [
    "## Part 3 Details\n",
    "Use an existing Apriori implementation from Python libraries/packages to\n",
    "verify the results from your brute force algorithm implementation.\n",
    "* Use Python existing package for fpgrowth (as known as fp-tree algorithm)\n",
    "to generate the items and rules.\n",
    "* Compare the results from your brute-force, Apriori, and FP-Tree/Growth.\n",
    "* Do the three algorithms produce the same results?\n",
    "* Report the timing performance for all three algorithms as well.\n",
    "* Which one is faster?\n",
    "So, for all three algorithms, generate and print out all the association rules and\n",
    "the input transactions for each of the 5 transactional databases you created/used.\n",
    "The data set selection, support, and confidence must be user-specified\n",
    "parameters, so the output should show different rules with respect to different\n",
    "databases and different support/confidence.\n",
    "Make sure to show multiple support and confidence results for each data set.\n",
    "You should prompt the user only once for the input and reuse for the three\n",
    "algorithms in each run.\n",
    "The items and transactions must be clear and easy to identify. Your\n",
    "program should show the performance time for each algorithm."
   ]
  },
  {
   "cell_type": "markdown",
   "metadata": {},
   "source": [
    "## Part 4 Details\n",
    "Github & Jupyter Notebook.\n",
    "* After you finish your code in development and testing\n",
    "and make sure it works, and prepare the report (meaning\n",
    "all heavy lifting job is done ), Create a Github\n",
    "repository in https://github.com/. Your account must be\n",
    "with your NJIT email not your personal email (unless if\n",
    "you have to, but indicate that in your report as well).\n",
    "* Load your project to the repository.\n",
    "* Create Jupyter notebook for your work to show the\n",
    "output, for more info visit https://jupyter.org/\n",
    "* Give me ya54@njit.edu access as a collaborator to your\n",
    "repository. (If we have a grader, you give him/her access\n",
    "too).\n",
    "* Add Github link to your repository to your report."
   ]
  }
 ],
 "metadata": {
  "kernelspec": {
   "display_name": "Python 3",
   "language": "python",
   "name": "python3"
  },
  "language_info": {
   "name": "python",
   "version": "3.12.2"
  }
 },
 "nbformat": 4,
 "nbformat_minor": 2
}
